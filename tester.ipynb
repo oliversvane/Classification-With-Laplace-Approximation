{
 "cells": [
  {
   "cell_type": "code",
   "execution_count": 11,
   "metadata": {},
   "outputs": [],
   "source": [
    "import random\n",
    "import numpy as np\n",
    "import matplotlib.pyplot as plt\n",
    "import numpy.random as rnd\n",
    "import numpy as np\n",
    "from matplotlib.patches import Ellipse\n",
    "import seaborn as sns\n",
    "\n",
    "\n",
    "y_tester = []\n",
    "cls = []\n",
    "for i in range(1000):\n",
    "    row=[]\n",
    "    for i in range(100):\n",
    "        row.append(list(np.random.random_sample(2)*5))\n",
    "    y_tester.append(row)\n",
    "    cls.append(random.choice([True, False]))"
   ]
  },
  {
   "cell_type": "code",
   "execution_count": 12,
   "metadata": {},
   "outputs": [],
   "source": [
    "labels=[\"Blue\",\"Red\"]\n",
    "my_labels = {\"x1\" : \"Blue\", \"x2\" : \"Red\"}"
   ]
  },
  {
   "cell_type": "code",
   "execution_count": 13,
   "metadata": {},
   "outputs": [],
   "source": [
    "def cor_var(y):\n",
    "    variances=[]\n",
    "    coordinates=[]\n",
    "    for i in range(len(y)):\n",
    "        variances.append((np.var([x[0] for x in y[i]]),(np.var([x[1] for x in y[i]]))))\n",
    "        coordinates.append([np.mean([x[0] for x in y[i]]),(np.mean([x[1] for x in y[i]]))])\n",
    "    return coordinates,variances\n",
    "\n",
    "def Ellipse_plot(cor,var,cls):\n",
    "    fig = plt.figure(0)\n",
    "    ax = fig.add_subplot(111, aspect='equal')\n",
    "    ax.axis('equal')\n",
    "    ax.set(xlim=[0, 5], ylim=[0, 5])\n",
    "    for i in range(len(cor)):\n",
    "        if cls[i] == True:\n",
    "            b=\"b\"\n",
    "            ell = Ellipse(xy=cor[i], width=var[i][0], height=var[i][1], angle=0,\n",
    "                        edgecolor=b, lw=2, facecolor='none')\n",
    "            ax.scatter(cor[i][0], cor[i][1],s=3, c=b)\n",
    "            ax.add_artist(ell)\n",
    "        else:\n",
    "            ell = Ellipse(xy=cor[i], width=var[i][0], height=var[i][1], angle=0,\n",
    "            edgecolor=\"r\", lw=2, facecolor='none')\n",
    "            ax.scatter(cor[i][0], cor[i][1],s=3, c=\"r\") \n",
    "            ax.add_artist(ell)\n",
    "        my_labels = {\"x1\" : \"_nolegend_\", \"x2\" : \"_nolegend_\"}   \n",
    "\n",
    "    #ax.legend()\n",
    "\n",
    "    plt.show()"
   ]
  },
  {
   "cell_type": "code",
   "execution_count": null,
   "metadata": {},
   "outputs": [],
   "source": [
    "np.shape(dist_data_x2)"
   ]
  },
  {
   "cell_type": "code",
   "execution_count": 20,
   "metadata": {},
   "outputs": [
    {
     "data": {
      "text/plain": [
       "<seaborn.axisgrid.FacetGrid at 0x7f9230733bb0>"
      ]
     },
     "execution_count": 20,
     "metadata": {},
     "output_type": "execute_result"
    },
    {
     "data": {
      "image/png": "[encoded data removed]",
      "text/plain": [
       "<Figure size 421.25x360 with 1 Axes>"
      ]
     },
     "metadata": {
      "needs_background": "light"
     },
     "output_type": "display_data"
    }
   ],
   "source": [
    "import pandas as pd\n",
    "def dist_plot(var):\n",
    "    dist_data_x1 = [x[0] for x in var]\n",
    "    dist_data_x2 = [x[1] for x in var]\n",
    "    df = pd.DataFrame(list(zip(dist_data_x1, dist_data_x2,cls)),\n",
    "                columns =['x', 'y','dist'])\n",
    "    sns.displot(df, x=\"x\", hue=\"dist\", kind=\"kde\", multiple=\"stack\")"
   ]
  },
  {
   "cell_type": "code",
   "execution_count": null,
   "metadata": {},
   "outputs": [],
   "source": [
    "np.cov(dist_data_x1,dist_data_x2)"
   ]
  },
  {
   "cell_type": "code",
   "execution_count": 19,
   "metadata": {},
   "outputs": [
    {
     "data": {
      "text/plain": [
       "((2.090501829960957, 2.401907879453507),\n",
       " [2.4421714135090253, 2.466678748665632])"
      ]
     },
     "execution_count": 19,
     "metadata": {},
     "output_type": "execute_result"
    }
   ],
   "source": [
    "var[0],cor[0]"
   ]
  },
  {
   "cell_type": "code",
   "execution_count": null,
   "metadata": {},
   "outputs": [],
   "source": []
  }
 ],
 "metadata": {
  "interpreter": {
   "hash": "befb7a448f250cd1db3184e52549401fa08a600e3a55100d44b8cafe051a6a59"
  },
  "kernelspec": {
   "display_name": "Python 3.8.8 ('base')",
   "language": "python",
   "name": "python3"
  },
  "language_info": {
   "codemirror_mode": {
    "name": "ipython",
    "version": 3
   },
   "file_extension": ".py",
   "mimetype": "text/x-python",
   "name": "python",
   "nbconvert_exporter": "python",
   "pygments_lexer": "ipython3",
   "version": "3.8.8"
  },
  "orig_nbformat": 4
 },
 "nbformat": 4,
 "nbformat_minor": 2
}
